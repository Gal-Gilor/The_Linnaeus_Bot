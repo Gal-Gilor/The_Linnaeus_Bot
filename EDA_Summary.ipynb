{
 "cells": [
  {
   "cell_type": "markdown",
   "metadata": {},
   "source": [
    "# EDA"
   ]
  },
  {
   "cell_type": "code",
   "execution_count": null,
   "metadata": {},
   "outputs": [],
   "source": [
    "from PIL import Image\n",
    "import matplotlib.pyplot as plt\n",
    "import numpy as np\n",
    "import os\n",
    "import plotly.graph_objects as go\n",
    "# import helper_functions as hlf\n",
    "\n",
    "# plt.style.use('ggplot')\n",
    "%matplotlib inline"
   ]
  },
  {
   "cell_type": "markdown",
   "metadata": {},
   "source": [
    "### Original Image"
   ]
  },
  {
   "cell_type": "code",
   "execution_count": null,
   "metadata": {},
   "outputs": [],
   "source": [
    "imagepath = r'E:\\images2019\\train_val2019\\Damselflies\\000c82a31b01641febe92ba83e64abb0.jpg'\n",
    "image = Image.open(imagepath)\n",
    "plt.imshow(image)\n",
    "plt.show()"
   ]
  },
  {
   "cell_type": "markdown",
   "metadata": {},
   "source": [
    "### Resizsing Image\n",
    "* Uniform size for every image while not loosing too much details"
   ]
  },
  {
   "cell_type": "code",
   "execution_count": null,
   "metadata": {},
   "outputs": [],
   "source": [
    "dimensions = (224, 224)\n",
    "image = image.resize(dimensions)\n",
    "plt.imshow(image)\n",
    "plt.show()"
   ]
  },
  {
   "cell_type": "markdown",
   "metadata": {},
   "source": [
    "### Grayscaling Image\n",
    "* Can cause more harm than help"
   ]
  },
  {
   "cell_type": "code",
   "execution_count": null,
   "metadata": {},
   "outputs": [],
   "source": [
    "image = image.convert(mode='L')\n",
    "plt.imshow(image, cmap='gray')\n",
    "plt.show()"
   ]
  },
  {
   "cell_type": "markdown",
   "metadata": {},
   "source": [
    "### Rotate Images\n",
    "* Increase the Dataset"
   ]
  },
  {
   "cell_type": "code",
   "execution_count": null,
   "metadata": {},
   "outputs": [],
   "source": [
    "chirl_image = image.transpose(Image.FLIP_LEFT_RIGHT)\n",
    "plt.imshow(chirl_image, cmap='gray')\n",
    "plt.show()"
   ]
  },
  {
   "cell_type": "code",
   "execution_count": null,
   "metadata": {},
   "outputs": [],
   "source": [
    "rotated = image.transpose(Image.FLIP_LEFT_RIGHT)\n",
    "plt.imshow(rotated, cmap='gray')\n",
    "plt.show()"
   ]
  },
  {
   "cell_type": "markdown",
   "metadata": {},
   "source": [
    "### Convert to NumPy and Noramalize Pixel Values"
   ]
  },
  {
   "cell_type": "code",
   "execution_count": null,
   "metadata": {},
   "outputs": [],
   "source": [
    "image = np.array(image)\n",
    "\n",
    "print(f'First pixel value: {image[0][0]}')\n",
    "print(f'Image shape: {image.shape}')\n",
    "\n",
    "image = image / 255\n",
    "\n",
    "print(f'First pixel value after normalizing: {image[0][0]}')"
   ]
  },
  {
   "cell_type": "markdown",
   "metadata": {},
   "source": [
    "### Checking for Class Imbalance "
   ]
  },
  {
   "cell_type": "code",
   "execution_count": null,
   "metadata": {},
   "outputs": [],
   "source": [
    "dampath = r'E:\\classification_damsel_images\\\\'\n",
    "extension = 'jpg'\n",
    "\n",
    "dam_images = os.listdir(dampath)\n",
    "damsels = len(dam_images)"
   ]
  },
  {
   "cell_type": "code",
   "execution_count": null,
   "metadata": {},
   "outputs": [],
   "source": [
    "danpath = r'E:\\classification_dragon_images\\\\'\n",
    "extension = 'jpg'\n",
    "\n",
    "dra_images = os.listdir(danpath) \n",
    "dragons = len(dra_images)\n",
    "train_drags = int(dragons * 0.75)"
   ]
  },
  {
   "cell_type": "code",
   "execution_count": null,
   "metadata": {},
   "outputs": [],
   "source": [
    "def plot_bar_graph(x, y, title, ytitle, xtitle):   \n",
    "    fig = go.Figure()\n",
    "    \n",
    "    # add trace\n",
    "    fig.add_trace(go.Bar(x = x,\n",
    "                         y = y)\n",
    "                 )\n",
    "    \n",
    "    # add labels, change figure/font sizes, and remove grid lines\n",
    "    fig.update_layout(autosize=False,\n",
    "                      width=600,\n",
    "                      height=550,\n",
    "                      \n",
    "                      xaxis=go.XAxis(\n",
    "                          title_=xtitle,\n",
    "                          titlefont=dict(size=18),\n",
    "                          showgrid=False),\n",
    "\n",
    "                      yaxis=go.layout.YAxis(\n",
    "                          title_text=ytitle,\n",
    "                          titlefont=dict(size=18),\n",
    "                          showgrid=False),\n",
    "\n",
    "                      title=go.layout.Title(\n",
    "                          text=title,\n",
    "                          font=dict(size=22),\n",
    "                          xref='paper')\n",
    "                      )\n",
    "\n",
    "    fig.update_yaxes(automargin=True)\n",
    "    fig.show()\n",
    "    return"
   ]
  },
  {
   "cell_type": "code",
   "execution_count": null,
   "metadata": {},
   "outputs": [],
   "source": [
    "create_bar_graph(['Damsels', 'Dragons'], [damsels, dragons], 'Images per Species', 'Number of Images', 'Species')"
   ]
  },
  {
   "cell_type": "markdown",
   "metadata": {},
   "source": [
    "### Difficult to Classify\n",
    "\n",
    "- Image not focused on the insect\n",
    "- Dominant background\n",
    "- Lower image quality"
   ]
  },
  {
   "cell_type": "markdown",
   "metadata": {},
   "source": [
    "### Separating images into testing and training files\n",
    "* Memory Constraint\n",
    "\n",
    "Due to the amount and size of images the images, it was not feasible to store all\n",
    "the data on memory.\n",
    "\n"
   ]
  }
 ],
 "metadata": {
  "kernelspec": {
   "display_name": "Python 3",
   "language": "python",
   "name": "python3"
  },
  "language_info": {
   "codemirror_mode": {
    "name": "ipython",
    "version": 3
   },
   "file_extension": ".py",
   "mimetype": "text/x-python",
   "name": "python",
   "nbconvert_exporter": "python",
   "pygments_lexer": "ipython3",
   "version": "3.6.9"
  }
 },
 "nbformat": 4,
 "nbformat_minor": 2
}
