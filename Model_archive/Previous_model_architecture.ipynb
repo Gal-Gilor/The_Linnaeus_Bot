{
 "cells": [
  {
   "cell_type": "markdown",
   "metadata": {},
   "source": [
    "# Previous Models"
   ]
  },
  {
   "cell_type": "markdown",
   "metadata": {},
   "source": [
    "### Supervised"
   ]
  },
  {
   "cell_type": "raw",
   "metadata": {},
   "source": [
    "# model_name =  r'D:\\Linnaeus_models\\classification5000_v1.pkl' (5k imagees 71%~ accuracy)\n",
    "model = Sequential()\n",
    "model.add(Conv2D(32, kernel_size=(5, 5), activation='tanh',\n",
    "                 input_shape=(256,256,1)))\n",
    "model.add(MaxPooling2D(pool_size=(3, 3)))\n",
    "\n",
    "model.add(Conv2D(64, (3, 3), activation='relu'))\n",
    "model.add(MaxPooling2D(pool_size=(2, 2)))\n",
    "model.add(Dropout(0.3))\n",
    "\n",
    "model.add(Flatten())\n",
    "model.add(Dense(128, activation='relu'))\n",
    "\n",
    "model.add(Dropout(0.3))\n",
    "model.add(Dense(2, activation='sigmoid'))\n",
    "\n",
    "\n",
    "model.compile(loss='binary_crossentropy', optimizer='Adam', metrics=['accuracy'])\n",
    "model.fit(x_train, y_train, epochs=2, batch_size=240,\n",
    "          validation_data=(x_val, y_val)) "
   ]
  },
  {
   "cell_type": "raw",
   "metadata": {},
   "source": [
    "# model_name =  r'D:\\Linnaeus_models\\classification6500_v2.pkl' (6.5k images 72.6% acc)\n",
    "\n",
    "model = Sequential()\n",
    "model.add(Conv2D(32, kernel_size=(5, 5), activation='tanh',\n",
    "                 input_shape=(256,256,1)))\n",
    "model.add(MaxPooling2D(pool_size=(3, 3)))\n",
    "\n",
    "model.add(Conv2D(64, (3, 3), activation='relu'))\n",
    "model.add(MaxPooling2D(pool_size=(2, 2)))\n",
    "model.add(Dropout(0.3))\n",
    "\n",
    "model.add(Conv2D(128, (3, 3), activation='relu'))\n",
    "model.add(MaxPooling2D(pool_size=(2, 2)))\n",
    "model.add(Dropout(0.3))\n",
    "\n",
    "model.add(Flatten())\n",
    "model.add(Dense(128, activation='relu'))\n",
    "\n",
    "model.add(Dropout(0.3))\n",
    "model.add(Dense(2, activation='sigmoid'))\n",
    "\n",
    "\n",
    "model.compile(loss='binary_crossentropy',optimizer='Adam',metrics=['accuracy'])\n",
    "model.fit(x_train, y_train, epochs=2, batch_size=300,\n",
    "          validation_data=(x_val, y_val)) "
   ]
  },
  {
   "cell_type": "raw",
   "metadata": {},
   "source": [
    "model_name =  r'D:\\Linnaeus_models\\classification6000_v3.pkl' (6000 images accuracy = 46.83)\n",
    "\n",
    "model = Sequential()\n",
    "model.add(Conv2D(32, kernel_size=(5, 5), activation='relu',\n",
    "                 input_shape=(256,256,1)))\n",
    "model.add(Conv2D(64, (3, 3), activation='relu'))\n",
    "model.add(MaxPooling2D(pool_size=(2, 2)))\n",
    "model.add(Dropout(0.3))\n",
    "\n",
    "\n",
    "model.add(Conv2D(128, (3, 3), activation='relu'))\n",
    "model.add(Conv2D(128, (3, 3), activation='relu'))\n",
    "model.add(MaxPooling2D(pool_size=(2, 2)))\n",
    "model.add(Dropout(0.3))\n",
    "\n",
    "model.add(Flatten())\n",
    "model.add(Dense(128, activation='relu'))\n",
    "\n",
    "model.add(Dropout(0.3))\n",
    "model.add(Dense(2, activation='sigmoid'))\n",
    "\n",
    "\n",
    "model.compile(loss='binary_crossentropy', optimizer='Adam', metrics=['accuracy'])\n",
    "model.fit(x_train, y_train, epochs=2, batch_size=120,\n",
    "          validation_data=(x_val, y_val)) "
   ]
  },
  {
   "cell_type": "raw",
   "metadata": {},
   "source": [
    "model_name =  r'D:\\Linnaeus_models\\classification6000_v4.pkl' (6000, training and clustering accuracy's at 49.3~)\n",
    "\n",
    "model = Sequential()\n",
    "model.add(Conv2D(128, kernel_size=(5, 5), activation='tanh',\n",
    "                 input_shape=(256,256,1)))\n",
    "model.add(MaxPooling2D(pool_size=(2, 2)))\n",
    "model.add(Dropout(0.3))\n",
    "\n",
    "\n",
    "model.add(Conv2D(64, (3, 3), activation='relu'))\n",
    "model.add(Conv2D(64, (3, 3), activation='relu'))\n",
    "model.add(MaxPooling2D(pool_size=(2, 2)))\n",
    "model.add(Dropout(0.3))\n",
    "\n",
    "model.add(Conv2D(32, (2, 2), activation='relu'))\n",
    "model.add(Dropout(0.25))\n",
    "\n",
    "model.add(Flatten())\n",
    "model.add(Dense(128, activation='relu'))\n",
    "\n",
    "model.add(Dropout(0.3))\n",
    "model.add(Dense(2, activation='sigmoid'))\n",
    "\n",
    "\n",
    "model.compile(loss='binary_crossentropy', optimizer='Adam', metrics=['accuracy'])\n",
    "model.fit(x_train, y_train_cat, epochs=1, batch_size=100,\n",
    "          validation_data=(x_val, y_val_cat)) "
   ]
  },
  {
   "cell_type": "code",
   "execution_count": null,
   "metadata": {},
   "outputs": [],
   "source": [
    "### Unsupervised"
   ]
  },
  {
   "cell_type": "raw",
   "metadata": {},
   "source": [
    "input_img = Input(shape=(256, 256, 1))\n",
    "\n",
    "# encoded representation of the input\n",
    "encoded = Conv2D(32, (3, 3), activation='relu', padding='same')(input_img)\n",
    "encoded = MaxPool2D((2, 2), padding='same')(encoded)\n",
    "encoded = Conv2D(16, (3, 3), activation='relu', padding='same')(encoded)\n",
    "encoded = MaxPool2D((2, 2), padding='same')(encoded)\n",
    "encoded = Conv2D(8, (3, 3), activation='relu', padding='same')(encoded)\n",
    "encoded = MaxPool2D((2, 2), padding='same')(encoded)\n",
    "\n",
    "# reconstruction of the input\n",
    "decoded = Conv2D(8, (3, 3), activation='relu', padding='same')(encoded)\n",
    "decoded = UpSampling2D((2, 2))(decoded)\n",
    "decoded = Conv2D(16, (3, 3), activation='relu', padding='same')(decoded)\n",
    "decoded = UpSampling2D((2, 2))(decoded)\n",
    "decoded = Conv2D(32, (3, 3), activation='relu', padding='same')(decoded)\n",
    "decoded = UpSampling2D((2, 2))(decoded)\n",
    "decoded = Conv2D(1, (3, 3), padding='same')(decoded)\n",
    "\n",
    "autoencoder = Model(input_img, decoded)\n",
    "\n",
    "# # save model\n",
    "# model_name =  r'D:\\Linnaeus_models\\dragon_reconstruction_v1.pkl'\n",
    "# jb.dump(autoencoder, model_name)"
   ]
  },
  {
   "cell_type": "raw",
   "metadata": {},
   "source": [
    "# encoded representation of the input\n",
    "encoded = Dense(4000, activation='relu')(input_img)\n",
    "encoded = Dense(2000, activation='relu')(encoded)\n",
    "encoded = Dense(1000, activation='relu')(encoded)\n",
    "encoded = Dense(500, activation='relu')(encoded)\n",
    "encoded = Dense(10, activation='sigmoid')(encoded)\n",
    "\n",
    "# reconstruction of the input\n",
    "decoded = Dense(500, activation='relu')(encoded)\n",
    "decoded = Dense(1000, activation='relu')(decoded)\n",
    "decoded = Dense(2000, activation='relu')(decoded)\n",
    "decoded = Dense(4000, activation='relu')(decoded)\n",
    "decoded = Dense(10000)(decoded)\n",
    "\n",
    "autoencoder = Model(input_img, decoded)"
   ]
  }
 ],
 "metadata": {
  "kernelspec": {
   "display_name": "Python 3",
   "language": "python",
   "name": "python3"
  },
  "language_info": {
   "codemirror_mode": {
    "name": "ipython",
    "version": 3
   },
   "file_extension": ".py",
   "mimetype": "text/x-python",
   "name": "python",
   "nbconvert_exporter": "python",
   "pygments_lexer": "ipython3",
   "version": "3.6.9"
  }
 },
 "nbformat": 4,
 "nbformat_minor": 2
}
