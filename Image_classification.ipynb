{
 "cells": [
  {
   "cell_type": "code",
   "execution_count": 3,
   "metadata": {},
   "outputs": [
    {
     "name": "stderr",
     "output_type": "stream",
     "text": [
      "Using TensorFlow backend.\n"
     ]
    }
   ],
   "source": [
    "import numpy as np\n",
    "import matplotlib.pyplot as plt\n",
    "from sklearn.model_selection import train_test_split\n",
    "import joblib as jb\n",
    "import helper_functions as hlf\n",
    "\n",
    "plt.rcParams['axes.spines.right'] = False\n",
    "plt.rcParams['axes.spines.top'] = False\n",
    "%matplotlib inline"
   ]
  },
  {
   "cell_type": "code",
   "execution_count": null,
   "metadata": {},
   "outputs": [],
   "source": [
    "import tensorflow as tf\n",
    "from tensorflow import keras\n",
    "from keras.layers import Dense, Dropout, Conv2D, MaxPooling2D, Flatten\n",
    "from keras.models import Sequential, load_model, Model\n",
    "from keras.utils import to_categorical\n",
    "from keras.preprocessing import image"
   ]
  },
  {
   "cell_type": "markdown",
   "metadata": {},
   "source": [
    "# Load Training Data"
   ]
  },
  {
   "cell_type": "code",
   "execution_count": null,
   "metadata": {},
   "outputs": [],
   "source": [
    "def load_data(damselpath, dragonpath, start, end):\n",
    "    '''\n",
    "    This function loads a pre-saved numpy arrays with their labels\n",
    "    load_data(damselpath, dragonpath, start, end):\n",
    "    Input:\n",
    "        damselpath: Damselflies numpy location\n",
    "        dragonpath: Dragonflies numpy location\n",
    "        start: Integer for slicing the arrays\n",
    "        end: Integer for slicing the arrays\n",
    "    Returns:\n",
    "        Retuns a concatenated numpy array with dragonfly and damselfly images (dragons first),\n",
    "        and a vector the size of the image vector where dragons value is 1 and damsel 0\n",
    "    '''\n",
    "    data = np.concatenate((np.load(dragonpath)[start:end], np.load(damselpath)[start:end]), axis=0)\n",
    "    dragon_images = len(np.load(dragonpath)[start:end])\n",
    "    labels = labels_vector(data, dragon_images)                           \n",
    "    return data, labels"
   ]
  },
  {
   "cell_type": "code",
   "execution_count": null,
   "metadata": {},
   "outputs": [],
   "source": [
    "def labels_vector(data, dragon_images):\n",
    "    '''\n",
    "    This function creates a binary vector\n",
    "    labels_vector(data, dragon_images):\n",
    "    Input:\n",
    "        data: List containing the images in numpy array format\n",
    "        dragon_images: The the amount of dragonfly images in the array\n",
    "    Returns:\n",
    "        This function returns a binary vector the length of the given data vector.\n",
    "        The function assumes the vector is order dragonfly images come first\n",
    "    '''\n",
    "    labels = np.zeros(len(data))\n",
    "    labels[:dragon_images] = 1\n",
    "    return labels"
   ]
  },
  {
   "cell_type": "code",
   "execution_count": null,
   "metadata": {},
   "outputs": [],
   "source": [
    "def create_model(weights_path=None, weights_name=None):\n",
    "    '''\n",
    "    This function create a sequantial model with input shape of (256 256, 1)\n",
    "    create_model(weights_path=None, weights_name=None):\n",
    "    Input:\n",
    "        weights_path: The full path to the model weights directory. default=None\n",
    "        weights_name: Weights file name. default=None\n",
    "    Returns:\n",
    "        This model returns a compiled sequantial model with input shape (256 256, 1)\n",
    "        and output shape of 2.\n",
    "    \n",
    "    '''\n",
    "    model = Sequential()\n",
    "    model.add(Conv2D(32, kernel_size=(3, 3), activation='tanh',\n",
    "                     input_shape=(256, 256, 1)))\n",
    "    model.add(Conv2D(32, (3, 3), activation='relu'))\n",
    "    model.add(MaxPooling2D(pool_size=(2, 2)))\n",
    "    model.add(Dropout(0.4))\n",
    "    \n",
    "    model.add(Conv2D(64, (3, 3), activation='relu'))\n",
    "    model.add(Conv2D(64, (3, 3), activation='relu'))\n",
    "    model.add(MaxPooling2D(pool_size=(2, 2)))\n",
    "    model.add(Dropout(0.4))\n",
    "    \n",
    "    model.add(Conv2D(128, (3, 3), activation='relu'))\n",
    "    model.add(Conv2D(128, (3, 3), activation='relu'))\n",
    "    model.add(MaxPooling2D(pool_size=(2, 2)))\n",
    "    model.add(Dropout(0.4))\n",
    "    \n",
    "    model.add(Flatten())\n",
    "    model.add(Dense(128, activation='relu'))\n",
    "    model.add(Dropout(0.4))\n",
    "    \n",
    "    model.add(Dense(128, activation='relu'))\n",
    "    model.add(Dropout(0.4))\n",
    "\n",
    "    model.add(Dense(2, activation='sigmoid'))\n",
    "    \n",
    "    model.compile(loss='binary_crossentropy', optimizer='Adam', metrics=['accuracy'])\n",
    "    \n",
    "    if weights_path and weights_name:\n",
    "        model.load_weights(f'{weights_path}{weights_name}')\n",
    "    return model"
   ]
  },
  {
   "cell_type": "code",
   "execution_count": null,
   "metadata": {},
   "outputs": [],
   "source": [
    "def create_train_validation(training_data, labels):\n",
    "    '''\n",
    "    This function seprates the images and labels to training and validation sets\n",
    "    create_train_validation(training_data, labels):\n",
    "    Input:\n",
    "        training_data: Images in numpy array format\n",
    "        labels: Vector with the image labels\n",
    "    Returns:\n",
    "        Shuffled, reshaped arrays with matching labels\n",
    "    '''\n",
    "    # split to sets\n",
    "    x_train, x_val, y_train, y_val = train_test_split(training_data, labels, test_size=0.05)\n",
    "    \n",
    "    # adjust variables dimensions to fit into the cnn    \n",
    "    x_train = np.expand_dims(x_train, axis=-1)\n",
    "    x_val = np.expand_dims(x_val, axis=-1)\n",
    "    \n",
    "    y_train_cat = to_categorical(y_train)\n",
    "    y_val_cat = to_categorical(y_val)\n",
    "    return x_train, x_val, y_train, y_val, y_train_cat, y_val_cat"
   ]
  },
  {
   "cell_type": "code",
   "execution_count": 7,
   "metadata": {},
   "outputs": [],
   "source": [
    "start, end = 0, 2000"
   ]
  },
  {
   "cell_type": "code",
   "execution_count": 11,
   "metadata": {},
   "outputs": [],
   "source": [
    "# load the images to train the clasifier\n",
    "damsel_train_path = r'D:\\Linnaeus_models\\damsel\\train\\damsel_train.npy'\n",
    "dragon_train_path = r'D:\\Linnaeus_models\\dragon\\train\\dragon_train.npy'\n",
    "\n",
    "training_data, labels = hlf.load_data(damsel_train_path, dragon_train_path, start, end)"
   ]
  },
  {
   "cell_type": "code",
   "execution_count": 12,
   "metadata": {},
   "outputs": [],
   "source": [
    "# create training/validation sets\n",
    "x_train, x_val, y_train, y_val, y_train_cat, y_val_cat = hlf.create_train_validation(training_data, labels)"
   ]
  },
  {
   "cell_type": "code",
   "execution_count": 13,
   "metadata": {},
   "outputs": [
    {
     "name": "stdout",
     "output_type": "stream",
     "text": [
      "WARNING:tensorflow:From C:\\Users\\GILOR\\.conda\\envs\\deeplearning\\lib\\site-packages\\keras\\backend\\tensorflow_backend.py:74: The name tf.get_default_graph is deprecated. Please use tf.compat.v1.get_default_graph instead.\n",
      "\n",
      "WARNING:tensorflow:From C:\\Users\\GILOR\\.conda\\envs\\deeplearning\\lib\\site-packages\\keras\\backend\\tensorflow_backend.py:517: The name tf.placeholder is deprecated. Please use tf.compat.v1.placeholder instead.\n",
      "\n",
      "WARNING:tensorflow:From C:\\Users\\GILOR\\.conda\\envs\\deeplearning\\lib\\site-packages\\keras\\backend\\tensorflow_backend.py:4138: The name tf.random_uniform is deprecated. Please use tf.random.uniform instead.\n",
      "\n",
      "WARNING:tensorflow:From C:\\Users\\GILOR\\.conda\\envs\\deeplearning\\lib\\site-packages\\keras\\backend\\tensorflow_backend.py:3976: The name tf.nn.max_pool is deprecated. Please use tf.nn.max_pool2d instead.\n",
      "\n",
      "WARNING:tensorflow:From C:\\Users\\GILOR\\.conda\\envs\\deeplearning\\lib\\site-packages\\keras\\backend\\tensorflow_backend.py:133: The name tf.placeholder_with_default is deprecated. Please use tf.compat.v1.placeholder_with_default instead.\n",
      "\n",
      "WARNING:tensorflow:From C:\\Users\\GILOR\\.conda\\envs\\deeplearning\\lib\\site-packages\\keras\\backend\\tensorflow_backend.py:3445: calling dropout (from tensorflow.python.ops.nn_ops) with keep_prob is deprecated and will be removed in a future version.\n",
      "Instructions for updating:\n",
      "Please use `rate` instead of `keep_prob`. Rate should be set to `rate = 1 - keep_prob`.\n",
      "WARNING:tensorflow:From C:\\Users\\GILOR\\.conda\\envs\\deeplearning\\lib\\site-packages\\keras\\optimizers.py:790: The name tf.train.Optimizer is deprecated. Please use tf.compat.v1.train.Optimizer instead.\n",
      "\n",
      "WARNING:tensorflow:From C:\\Users\\GILOR\\.conda\\envs\\deeplearning\\lib\\site-packages\\keras\\backend\\tensorflow_backend.py:3376: The name tf.log is deprecated. Please use tf.math.log instead.\n",
      "\n",
      "WARNING:tensorflow:From C:\\Users\\GILOR\\.conda\\envs\\deeplearning\\lib\\site-packages\\tensorflow\\python\\ops\\nn_impl.py:180: add_dispatch_support.<locals>.wrapper (from tensorflow.python.ops.array_ops) is deprecated and will be removed in a future version.\n",
      "Instructions for updating:\n",
      "Use tf.where in 2.0, which has the same broadcast rule as np.where\n",
      "_________________________________________________________________\n",
      "Layer (type)                 Output Shape              Param #   \n",
      "=================================================================\n",
      "conv2d_1 (Conv2D)            (None, 254, 254, 32)      320       \n",
      "_________________________________________________________________\n",
      "conv2d_2 (Conv2D)            (None, 252, 252, 32)      9248      \n",
      "_________________________________________________________________\n",
      "max_pooling2d_1 (MaxPooling2 (None, 126, 126, 32)      0         \n",
      "_________________________________________________________________\n",
      "dropout_1 (Dropout)          (None, 126, 126, 32)      0         \n",
      "_________________________________________________________________\n",
      "conv2d_3 (Conv2D)            (None, 124, 124, 64)      18496     \n",
      "_________________________________________________________________\n",
      "conv2d_4 (Conv2D)            (None, 122, 122, 64)      36928     \n",
      "_________________________________________________________________\n",
      "max_pooling2d_2 (MaxPooling2 (None, 61, 61, 64)        0         \n",
      "_________________________________________________________________\n",
      "dropout_2 (Dropout)          (None, 61, 61, 64)        0         \n",
      "_________________________________________________________________\n",
      "conv2d_5 (Conv2D)            (None, 59, 59, 128)       73856     \n",
      "_________________________________________________________________\n",
      "conv2d_6 (Conv2D)            (None, 57, 57, 128)       147584    \n",
      "_________________________________________________________________\n",
      "max_pooling2d_3 (MaxPooling2 (None, 28, 28, 128)       0         \n",
      "_________________________________________________________________\n",
      "dropout_3 (Dropout)          (None, 28, 28, 128)       0         \n",
      "_________________________________________________________________\n",
      "flatten_1 (Flatten)          (None, 100352)            0         \n",
      "_________________________________________________________________\n",
      "dense_1 (Dense)              (None, 128)               12845184  \n",
      "_________________________________________________________________\n",
      "dropout_4 (Dropout)          (None, 128)               0         \n",
      "_________________________________________________________________\n",
      "dense_2 (Dense)              (None, 128)               16512     \n",
      "_________________________________________________________________\n",
      "dropout_5 (Dropout)          (None, 128)               0         \n",
      "_________________________________________________________________\n",
      "dense_3 (Dense)              (None, 2)                 258       \n",
      "=================================================================\n",
      "Total params: 13,148,386\n",
      "Trainable params: 13,148,386\n",
      "Non-trainable params: 0\n",
      "_________________________________________________________________\n"
     ]
    }
   ],
   "source": [
    "# create and compile keras seqeuntial model\n",
    "model = hlf.create_model()\n",
    "model.summary()"
   ]
  },
  {
   "cell_type": "code",
   "execution_count": null,
   "metadata": {},
   "outputs": [],
   "source": [
    "train_history = model.fit(x_train, y_train, epochs=10, batch_size=180,\n",
    "                          validation_data=(x_val, y_val)\n",
    "                         ) \n",
    "model.save_weights('./model_weights/first2000')"
   ]
  },
  {
   "cell_type": "code",
   "execution_count": null,
   "metadata": {},
   "outputs": [],
   "source": [
    "variable =  './train_history/first2000'\n",
    "jb.dump(train_history, variable)"
   ]
  },
  {
   "cell_type": "markdown",
   "metadata": {},
   "source": [
    "### Reset Kernel \n",
    " * Load previous model weights\n",
    " * Re-train on unseen images"
   ]
  },
  {
   "cell_type": "code",
   "execution_count": 14,
   "metadata": {},
   "outputs": [],
   "source": [
    "# Reset kernel, Load past model and retrain on the model on new images\n",
    "weights_path = './model_weights/'\n",
    "weights_name = 'fifth2000'\n",
    "pre_trained_model = hlf.create_model(weights_path, weights_name)"
   ]
  },
  {
   "cell_type": "code",
   "execution_count": null,
   "metadata": {},
   "outputs": [],
   "source": [
    "# load new images and create new train/validation sets\n",
    "start, end = 12000, 12694\n",
    "\n",
    "damsel_train_path = r'D:\\Linnaeus_models\\damsel\\train\\damsel_train.npy'\n",
    "dragon_train_path = r'D:\\Linnaeus_models\\dragon\\train\\dragon_train.npy'\n",
    "\n",
    "training_data, labels = hlf.load_data(damsel_train_path, dragon_train_path, start, end)\n",
    "\n",
    "x_train, x_val, y_train, y_val, y_train_cat, y_val_cat = hlf.create_train_validation(training_data, labels)"
   ]
  },
  {
   "cell_type": "code",
   "execution_count": null,
   "metadata": {},
   "outputs": [],
   "source": [
    "train_history = pre_trained_model.fit(x_train, y_train_cat, epochs=2, batch_size=35,\n",
    "                                      validation_data=(x_val, y_val_cat)\n",
    "                                     ) \n",
    "pre_trained_model.save_weights('./model_weights/sixth2000')\n",
    "history_path = './train_history/sixth2000'\n",
    "jb.dump(train_history, history_path)"
   ]
  },
  {
   "cell_type": "code",
   "execution_count": null,
   "metadata": {},
   "outputs": [],
   "source": [
    "loss, acc = pre_trained_model.evaluate(x_val, to_categorical(y_val))\n",
    "print(f'Validation accuracy: {acc * 100}%')"
   ]
  },
  {
   "cell_type": "code",
   "execution_count": null,
   "metadata": {},
   "outputs": [],
   "source": [
    "preds = pre_trained_model.predict(x_val)\n",
    "\n",
    "preds_class = pre_trained_model.predict_classes(x_val)\n",
    "\n",
    "reverted_x = np.squeeze(x_val, axis=-1)"
   ]
  },
  {
   "cell_type": "code",
   "execution_count": null,
   "metadata": {},
   "outputs": [],
   "source": [
    "plt.imshow(reverted_x[1], cmap='gray')"
   ]
  },
  {
   "cell_type": "code",
   "execution_count": null,
   "metadata": {},
   "outputs": [],
   "source": [
    "# load testing set"
   ]
  },
  {
   "cell_type": "code",
   "execution_count": null,
   "metadata": {},
   "outputs": [],
   "source": [
    "# Reset kernel, Load past model and retrain on the model on new images\n",
    "weights_path = './model_weights/'\n",
    "weights_name = 'seventh694'\n",
    "pre_trained_model = hlf.create_model(weights_path, weights_name)"
   ]
  },
  {
   "cell_type": "code",
   "execution_count": null,
   "metadata": {},
   "outputs": [],
   "source": [
    "start, end = 0, -1\n",
    "# load the images to train the clasifier\n",
    "damsel_test_path = r'D:\\Linnaeus_models\\damsel\\test\\damsel_test.npy'\n",
    "dragon_test_path = r'D:\\Linnaeus_models\\dragon\\test\\dragon_test.npy'\n",
    "\n",
    "test_set, labels = hlf.load_data(damsel_test_path, dragon_test_path, start, end)"
   ]
  },
  {
   "cell_type": "code",
   "execution_count": null,
   "metadata": {},
   "outputs": [],
   "source": [
    "preds = pre_trained_model.predict(np.expand_dims(test_set, axis=-1))"
   ]
  },
  {
   "cell_type": "code",
   "execution_count": null,
   "metadata": {},
   "outputs": [],
   "source": [
    "preds_class = pre_trained_model.predict_classes(np.expand_dims(test_set, axis=-1))"
   ]
  },
  {
   "cell_type": "code",
   "execution_count": null,
   "metadata": {},
   "outputs": [],
   "source": [
    "from sklearn.metrics import confusion_matrix, accuracy_score, recall_score"
   ]
  },
  {
   "cell_type": "code",
   "execution_count": null,
   "metadata": {},
   "outputs": [],
   "source": [
    "accuracy_score(labels, preds_class)"
   ]
  },
  {
   "cell_type": "code",
   "execution_count": null,
   "metadata": {},
   "outputs": [],
   "source": [
    "accuracy_score(labels, preds_class) # 87.5 6th model weights"
   ]
  },
  {
   "cell_type": "markdown",
   "metadata": {},
   "source": [
    "# Previouse Model Architectures"
   ]
  },
  {
   "cell_type": "raw",
   "metadata": {},
   "source": [
    "# model_name =  r'D:\\Linnaeus_models\\classification5000_v1.pkl' (5k imagees 71%~ accuracy)\n",
    "model = Sequential()\n",
    "model.add(Conv2D(32, kernel_size=(5, 5), activation='tanh',\n",
    "                 input_shape=(256,256,1)))\n",
    "model.add(MaxPooling2D(pool_size=(3, 3)))\n",
    "\n",
    "model.add(Conv2D(64, (3, 3), activation='relu'))\n",
    "model.add(MaxPooling2D(pool_size=(2, 2)))\n",
    "model.add(Dropout(0.3))\n",
    "\n",
    "model.add(Flatten())\n",
    "model.add(Dense(128, activation='relu'))\n",
    "\n",
    "model.add(Dropout(0.3))\n",
    "model.add(Dense(2, activation='sigmoid'))"
   ]
  },
  {
   "cell_type": "raw",
   "metadata": {},
   "source": [
    "# model_name =  r'D:\\Linnaeus_models\\classification6500_v2.pkl' (6.5k images 72.6% acc)\n",
    "\n",
    "model = Sequential()\n",
    "model.add(Conv2D(32, kernel_size=(5, 5), activation='tanh',\n",
    "                 input_shape=(256,256,1)))\n",
    "model.add(MaxPooling2D(pool_size=(3, 3)))\n",
    "\n",
    "model.add(Conv2D(64, (3, 3), activation='relu'))\n",
    "model.add(MaxPooling2D(pool_size=(2, 2)))\n",
    "model.add(Dropout(0.3))\n",
    "\n",
    "model.add(Conv2D(128, (3, 3), activation='relu'))\n",
    "model.add(MaxPooling2D(pool_size=(2, 2)))\n",
    "model.add(Dropout(0.3))\n",
    "\n",
    "model.add(Flatten())\n",
    "model.add(Dense(128, activation='relu'))\n",
    "\n",
    "model.add(Dropout(0.3))\n",
    "model.add(Dense(2, activation='sigmoid'))"
   ]
  },
  {
   "cell_type": "raw",
   "metadata": {},
   "source": [
    "model_name =  r'D:\\Linnaeus_models\\classification6000_v3.pkl' (6000 images accuracy = 46.83)\n",
    "\n",
    "model = Sequential()\n",
    "model.add(Conv2D(32, kernel_size=(5, 5), activation='relu',\n",
    "                 input_shape=(256,256,1)))\n",
    "model.add(Conv2D(64, (3, 3), activation='relu'))\n",
    "model.add(MaxPooling2D(pool_size=(2, 2)))\n",
    "model.add(Dropout(0.3))\n",
    "\n",
    "\n",
    "model.add(Conv2D(128, (3, 3), activation='relu'))\n",
    "model.add(Conv2D(128, (3, 3), activation='relu'))\n",
    "model.add(MaxPooling2D(pool_size=(2, 2)))\n",
    "model.add(Dropout(0.3))\n",
    "\n",
    "model.add(Flatten())\n",
    "model.add(Dense(128, activation='relu'))\n",
    "\n",
    "model.add(Dropout(0.3))\n",
    "model.add(Dense(2, activation='sigmoid'))"
   ]
  },
  {
   "cell_type": "raw",
   "metadata": {},
   "source": [
    "model_name =  r'D:\\Linnaeus_models\\classification6000_v4.pkl' (6000, training and validation accuracy's at 49.3~)\n",
    "\n",
    "model = Sequential()\n",
    "model.add(Conv2D(128, kernel_size=(5, 5), activation='tanh',\n",
    "                 input_shape=(256,256,1)))\n",
    "model.add(MaxPooling2D(pool_size=(2, 2)))\n",
    "model.add(Dropout(0.3))\n",
    "\n",
    "\n",
    "model.add(Conv2D(64, (3, 3), activation='relu'))\n",
    "model.add(Conv2D(64, (3, 3), activation='relu'))\n",
    "model.add(MaxPooling2D(pool_size=(2, 2)))\n",
    "model.add(Dropout(0.3))\n",
    "\n",
    "model.add(Conv2D(32, (2, 2), activation='relu'))\n",
    "model.add(Dropout(0.25))\n",
    "\n",
    "model.add(Flatten())\n",
    "model.add(Dense(128, activation='relu'))\n",
    "\n",
    "model.add(Dropout(0.3))\n",
    "model.add(Dense(2, activation='sigmoid'))"
   ]
  }
 ],
 "metadata": {
  "kernelspec": {
   "display_name": "Python 3",
   "language": "python",
   "name": "python3"
  },
  "language_info": {
   "codemirror_mode": {
    "name": "ipython",
    "version": 3
   },
   "file_extension": ".py",
   "mimetype": "text/x-python",
   "name": "python",
   "nbconvert_exporter": "python",
   "pygments_lexer": "ipython3",
   "version": "3.6.9"
  }
 },
 "nbformat": 4,
 "nbformat_minor": 2
}
