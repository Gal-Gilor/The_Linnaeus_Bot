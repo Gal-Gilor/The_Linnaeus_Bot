{
 "cells": [
  {
   "cell_type": "code",
   "execution_count": 1,
   "metadata": {},
   "outputs": [],
   "source": [
    "from PIL import Image\n",
    "from glob import glob\n",
    "from tqdm import tqdm\n",
    "import numpy as np\n",
    "import os\n",
    "import pickle\n",
    "import cv2\n",
    "import matplotlib.pyplot as plt\n",
    "%matplotlib inline"
   ]
  },
  {
   "cell_type": "code",
   "execution_count": 10,
   "metadata": {},
   "outputs": [],
   "source": [
    "# load jpgs\n",
    "def process_images(inpath, outpath, dim_tuple, extension='jpg', start=1):\n",
    "    '''\n",
    "    process_images(inpath, outpath, dim_tuple, extension, start=1):\n",
    "    This function creates new images, reshapes, grayscale, and save the images in a desired location\n",
    "    Input:\n",
    "        inpath: Path to the image files\n",
    "        outpath: Path to where the images should be saved\n",
    "        dim_tuple: Desired image size\n",
    "        extension: The image file type. default='jpg'\n",
    "        start: Part saved image name. default=1\n",
    "    Returns:\n",
    "        Returns a folder containing double amount of images\n",
    "    '''\n",
    "    #open images\n",
    "    for file in tqdm(glob(f'{inpath}*.{extension}')):\n",
    "        with Image.open(file) as img:\n",
    "            #rotate image\n",
    "            rotated_images = rotate_images(img)\n",
    "            \n",
    "            # resize images\n",
    "            resized = resizing(rotated_images, dim_tuple)\n",
    "            \n",
    "            #grayscale images\n",
    "            gray_images = grayscale(resized)\n",
    "            \n",
    "            \n",
    "            # save the images\n",
    "            save_preprocessed_images(gray_images, outpath, extension, start)\n",
    "            start += 2                      \n",
    "    return"
   ]
  },
  {
   "cell_type": "code",
   "execution_count": 8,
   "metadata": {},
   "outputs": [],
   "source": [
    "# rotate images\n",
    "def rotate_images(image):\n",
    "    '''\n",
    "    rotate_images(image):\n",
    "    This function rotates an image on it's center 7 times (45, 90, 135, 180, 225, 270, and mirror image)\n",
    "    Input:\n",
    "        image: One image file\n",
    "    Returns:\n",
    "        A list of images containing the original image and the rotated one\n",
    "    '''\n",
    "    rotated_images = []\n",
    "    \n",
    "    chirl_image = image.transpose(Image.FLIP_LEFT_RIGHT)\n",
    "    \n",
    "    rotated_images.extend([image, chirl_image])  \n",
    "    return rotated_images"
   ]
  },
  {
   "cell_type": "code",
   "execution_count": 4,
   "metadata": {},
   "outputs": [],
   "source": [
    "def resizing(images, dim_tuple):\n",
    "    '''\n",
    "    resizing(images, dim_tuple):\n",
    "    This function resizes a list of images\n",
    "    Input:\n",
    "        images: List of images\n",
    "        dim_tuple: Tuple containing the desired hight and the width\n",
    "    Returns:\n",
    "        List of resized images        \n",
    "    '''\n",
    "    resized = [image.resize(dim_tuple) for image in images]\n",
    "    return resized"
   ]
  },
  {
   "cell_type": "code",
   "execution_count": 5,
   "metadata": {},
   "outputs": [],
   "source": [
    "def grayscale(images):\n",
    "    '''\n",
    "    grayscale(images):\n",
    "    This transforms RGB images to grayscale images\n",
    "    Input:\n",
    "        images:List of RBG images\n",
    "    Returns:\n",
    "        List of grayscale images\n",
    "    '''\n",
    "    gray_images = [image.convert(mode='L') for image in images]\n",
    "    return gray_images"
   ]
  },
  {
   "cell_type": "code",
   "execution_count": 6,
   "metadata": {},
   "outputs": [],
   "source": [
    "# save images in a different path\n",
    "def save_preprocessed_images(processed_images, outpath, extension='jpg', start):\n",
    "    '''\n",
    "    save_preprocessed_images(processed_images, outpath, extension, start)\n",
    "    This function saves any type of image in a specific directory\n",
    "    Input:\n",
    "        processed_images: List of images\n",
    "        outpath: Where you want the files to be saved\n",
    "    Returns:\n",
    "        Does not return a variable. Creates image files \n",
    "    '''\n",
    "    [image.save(f'{outpath}\\\\image{i}.{extension}') for i, image in enumerate(processed_images, start)]\n",
    "    return"
   ]
  },
  {
   "cell_type": "code",
   "execution_count": 7,
   "metadata": {},
   "outputs": [],
   "source": [
    "def save_train_test(inpath, outpath, extension='jpg', n, j):\n",
    "    '''\n",
    "    save_train_test(inpath, outpath, extension, n, label):\n",
    "    This function converts an image file to a numpy array, normalizes the the pixel values and saves\n",
    "    Input:\n",
    "        outpath: The path where you want to save the file\n",
    "        n: int. slicing the matrix\n",
    "        j: int. slicing the matrix\n",
    "            \n",
    "    '''\n",
    "    images = []\n",
    "    for file in tqdm(glob(f'{inpath}*.{extension}')[n:j]):\n",
    "        with Image.open(file) as img:\n",
    "            np_image = np.array(img) / 255\n",
    "            np_image = np_image.expand_dims(np_image, axis=0)\n",
    "            images.append(np_image)\n",
    "    \n",
    "    images = np.asarray(images)   \n",
    "    np.save(outpath, images)\n",
    "    del images\n",
    "    return "
   ]
  },
  {
   "cell_type": "markdown",
   "metadata": {},
   "source": [
    "# Process Damselflies Images"
   ]
  },
  {
   "cell_type": "code",
   "execution_count": 11,
   "metadata": {},
   "outputs": [
    {
     "name": "stderr",
     "output_type": "stream",
     "text": [
      "100%|██████████████████████████████████████████████████████████████████████████████| 8462/8462 [09:00<00:00, 15.67it/s]\n"
     ]
    }
   ],
   "source": [
    "# create new, process, and save images damselfly images\n",
    "inpath = r'E:\\images2019\\train_val2019\\Damselflies\\\\'\n",
    "outpath = r'E:\\classification_damsel_images'\n",
    "dim_tuple = (256, 256)\n",
    "\n",
    "process_images(inpath, outpath, dim_tuple)"
   ]
  },
  {
   "cell_type": "markdown",
   "metadata": {},
   "source": [
    "# Process Dragonflies Images"
   ]
  },
  {
   "cell_type": "code",
   "execution_count": 13,
   "metadata": {},
   "outputs": [
    {
     "name": "stderr",
     "output_type": "stream",
     "text": [
      "100%|██████████████████████████████████████████████████████████████████████████████| 9204/9204 [08:32<00:00, 17.96it/s]\n"
     ]
    }
   ],
   "source": [
    "# create new, process, and save images dragonfly images\n",
    "inpath = r'E:\\images2019\\train_val2019\\Dragonflies\\\\'\n",
    "outpath = r'E:\\classification_dragon_images'\n",
    "dim_tuple = (256, 256)\n",
    "\n",
    "process_images(inpath, outpath, dim_tuple, extension)"
   ]
  },
  {
   "cell_type": "markdown",
   "metadata": {},
   "source": [
    "# Train/Test Dragonfly Images"
   ]
  },
  {
   "cell_type": "code",
   "execution_count": null,
   "metadata": {},
   "outputs": [],
   "source": [
    "# create dragonfly train/test sets\n",
    "inpath = r'E:\\classification_dragon_images\\\\'\n",
    "dragon_test_path = r'E:\\classification_dragon_images\\test\\dragon_test.npy'\n",
    "dragon_train_path = r'E:\\classification_dragon_images\\train\\dragon_train.npy'\n",
    "\n",
    "# define test set size (25%~)\n",
    "files = os.listdir(inpath) \n",
    "n_files = len(files)\n",
    "n_train = int(n_files * 0.75)"
   ]
  },
  {
   "cell_type": "code",
   "execution_count": 14,
   "metadata": {
    "scrolled": true
   },
   "outputs": [
    {
     "name": "stderr",
     "output_type": "stream",
     "text": [
      "100%|██████████████████████████████████████████████████████████████████████████| 13807/13807 [00:13<00:00, 1040.84it/s]\n"
     ]
    }
   ],
   "source": [
    "# create dragonfly training set\n",
    "save_train_test(inpath, dragon_train_path, extension, 0, n_train)"
   ]
  },
  {
   "cell_type": "code",
   "execution_count": 15,
   "metadata": {},
   "outputs": [
    {
     "name": "stderr",
     "output_type": "stream",
     "text": [
      "100%|█████████████████████████████████████████████████████████████████████████████| 4600/4600 [00:09<00:00, 484.16it/s]\n"
     ]
    }
   ],
   "source": [
    "# create dragonfly testing set\n",
    "save_train_test(inpath, dragon_test_path, extension, n_train, -1)"
   ]
  },
  {
   "cell_type": "markdown",
   "metadata": {},
   "source": [
    "# Train/Test Damselfly Images"
   ]
  },
  {
   "cell_type": "code",
   "execution_count": null,
   "metadata": {},
   "outputs": [],
   "source": [
    "# create damselfly train/test sets\n",
    "inpath = r'E:\\classification_damsel_images\\\\'\n",
    "damsel_test_path = r'E:\\classification_damsel_images\\test\\damsel_test.npy'\n",
    "damsel_train_path = r'E:\\classification_damsel_images\\train\\damsel_train.npy'\n",
    "\n",
    "# define test set size (25%~)\n",
    "files = os.listdir(inpath)\n",
    "n_files = len(files)\n",
    "n_train = int(n_files * 0.75)"
   ]
  },
  {
   "cell_type": "code",
   "execution_count": 16,
   "metadata": {},
   "outputs": [
    {
     "name": "stderr",
     "output_type": "stream",
     "text": [
      "100%|███████████████████████████████████████████████████████████████████████████| 12694/12694 [00:40<00:00, 316.83it/s]\n"
     ]
    }
   ],
   "source": [
    "# create dragonfly training set\n",
    "save_train_test(inpath, damsel_train_path, extension, 0, n_train)"
   ]
  },
  {
   "cell_type": "code",
   "execution_count": 17,
   "metadata": {},
   "outputs": [
    {
     "name": "stderr",
     "output_type": "stream",
     "text": [
      "100%|█████████████████████████████████████████████████████████████████████████████| 4229/4229 [00:15<00:00, 281.17it/s]\n"
     ]
    }
   ],
   "source": [
    "# create damselfly testing set\n",
    "save_train_test(inpath, damsel_test_path, extension, n_train, -1)"
   ]
  }
 ],
 "metadata": {
  "kernelspec": {
   "display_name": "Python 3",
   "language": "python",
   "name": "python3"
  },
  "language_info": {
   "codemirror_mode": {
    "name": "ipython",
    "version": 3
   },
   "file_extension": ".py",
   "mimetype": "text/x-python",
   "name": "python",
   "nbconvert_exporter": "python",
   "pygments_lexer": "ipython3",
   "version": "3.6.9"
  }
 },
 "nbformat": 4,
 "nbformat_minor": 2
}
