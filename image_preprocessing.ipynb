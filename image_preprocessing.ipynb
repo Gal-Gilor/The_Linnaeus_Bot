{
 "cells": [
  {
   "cell_type": "code",
   "execution_count": 1,
   "metadata": {},
   "outputs": [],
   "source": [
    "from PIL import Image\n",
    "from glob import glob\n",
    "from tqdm import tqdm\n",
    "import numpy as np\n",
    "import os\n",
    "import pickle\n",
    "import cv2\n",
    "import matplotlib.pyplot as plt\n",
    "import helper_functions as hlf\n",
    "\n",
    "\n",
    "%matplotlib inline"
   ]
  },
  {
   "cell_type": "markdown",
   "metadata": {},
   "source": [
    "# Process Damselflies Images"
   ]
  },
  {
   "cell_type": "code",
   "execution_count": 11,
   "metadata": {},
   "outputs": [
    {
     "name": "stderr",
     "output_type": "stream",
     "text": [
      "100%|██████████████████████████████████████████████████████████████████████████████| 8462/8462 [09:00<00:00, 15.67it/s]\n"
     ]
    }
   ],
   "source": [
    "# create new, process, and save images damselfly images\n",
    "inpath = r'E:\\images2019\\train_val2019\\Damselflies\\\\'\n",
    "outpath = r'E:\\classification_damsel_images'\n",
    "dim_tuple = (256, 256)\n",
    "\n",
    "hlf.process_images(inpath, outpath, dim_tuple)"
   ]
  },
  {
   "cell_type": "markdown",
   "metadata": {},
   "source": [
    "# Process Dragonflies Images"
   ]
  },
  {
   "cell_type": "code",
   "execution_count": 13,
   "metadata": {},
   "outputs": [
    {
     "name": "stderr",
     "output_type": "stream",
     "text": [
      "100%|██████████████████████████████████████████████████████████████████████████████| 9204/9204 [08:32<00:00, 17.96it/s]\n"
     ]
    }
   ],
   "source": [
    "# create new, process, and save images dragonfly images\n",
    "inpath = r'E:\\images2019\\train_val2019\\Dragonflies\\\\'\n",
    "outpath = r'E:\\classification_dragon_images'\n",
    "dim_tuple = (256, 256)\n",
    "\n",
    "hlf.process_images(inpath, outpath, dim_tuple, extension)"
   ]
  },
  {
   "cell_type": "markdown",
   "metadata": {},
   "source": [
    "# Train/Test Dragonfly Images"
   ]
  },
  {
   "cell_type": "code",
   "execution_count": null,
   "metadata": {},
   "outputs": [],
   "source": [
    "# create dragonfly train/test sets\n",
    "inpath = r'E:\\classification_dragon_images\\\\'\n",
    "dragon_test_path = r'E:\\classification_dragon_images\\test\\dragon_test.npy'\n",
    "dragon_train_path = r'E:\\classification_dragon_images\\train\\dragon_train.npy'\n",
    "\n",
    "# define test set size (25%~)\n",
    "files = os.listdir(inpath) \n",
    "n_files = len(files)\n",
    "n_train = int(n_files * 0.75)"
   ]
  },
  {
   "cell_type": "code",
   "execution_count": 14,
   "metadata": {
    "scrolled": true
   },
   "outputs": [
    {
     "name": "stderr",
     "output_type": "stream",
     "text": [
      "100%|██████████████████████████████████████████████████████████████████████████| 13807/13807 [00:13<00:00, 1040.84it/s]\n"
     ]
    }
   ],
   "source": [
    "# create dragonfly training set\n",
    "hlf.save_train_test(inpath, dragon_train_path, extension, 0, n_train)"
   ]
  },
  {
   "cell_type": "code",
   "execution_count": 15,
   "metadata": {},
   "outputs": [
    {
     "name": "stderr",
     "output_type": "stream",
     "text": [
      "100%|█████████████████████████████████████████████████████████████████████████████| 4600/4600 [00:09<00:00, 484.16it/s]\n"
     ]
    }
   ],
   "source": [
    "# create dragonfly testing set\n",
    "hlf.ave_train_test(inpath, dragon_test_path, extension, n_train, -1)"
   ]
  },
  {
   "cell_type": "markdown",
   "metadata": {},
   "source": [
    "# Train/Test Damselfly Images"
   ]
  },
  {
   "cell_type": "code",
   "execution_count": null,
   "metadata": {},
   "outputs": [],
   "source": [
    "# create damselfly train/test sets\n",
    "inpath = r'E:\\classification_damsel_images\\\\'\n",
    "damsel_test_path = r'E:\\classification_damsel_images\\test\\damsel_test.npy'\n",
    "damsel_train_path = r'E:\\classification_damsel_images\\train\\damsel_train.npy'\n",
    "\n",
    "# define test set size (25%~)\n",
    "files = os.listdir(inpath)\n",
    "n_files = len(files)\n",
    "n_train = int(n_files * 0.75)"
   ]
  },
  {
   "cell_type": "code",
   "execution_count": 16,
   "metadata": {},
   "outputs": [
    {
     "name": "stderr",
     "output_type": "stream",
     "text": [
      "100%|███████████████████████████████████████████████████████████████████████████| 12694/12694 [00:40<00:00, 316.83it/s]\n"
     ]
    }
   ],
   "source": [
    "# create dragonfly training set\n",
    "hlf.save_train_test(inpath, damsel_train_path, extension, 0, n_train)"
   ]
  },
  {
   "cell_type": "code",
   "execution_count": 17,
   "metadata": {},
   "outputs": [
    {
     "name": "stderr",
     "output_type": "stream",
     "text": [
      "100%|█████████████████████████████████████████████████████████████████████████████| 4229/4229 [00:15<00:00, 281.17it/s]\n"
     ]
    }
   ],
   "source": [
    "# create damselfly testing set\n",
    "hlf.save_train_test(inpath, damsel_test_path, extension, n_train, -1)"
   ]
  }
 ],
 "metadata": {
  "kernelspec": {
   "display_name": "Python 3",
   "language": "python",
   "name": "python3"
  },
  "language_info": {
   "codemirror_mode": {
    "name": "ipython",
    "version": 3
   },
   "file_extension": ".py",
   "mimetype": "text/x-python",
   "name": "python",
   "nbconvert_exporter": "python",
   "pygments_lexer": "ipython3",
   "version": "3.6.9"
  }
 },
 "nbformat": 4,
 "nbformat_minor": 2
}
