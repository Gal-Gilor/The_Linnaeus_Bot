{
 "cells": [
  {
   "cell_type": "code",
   "execution_count": 92,
   "metadata": {},
   "outputs": [],
   "source": [
    "from PIL import Image\n",
    "from glob import glob\n",
    "from tqdm import tqdm"
   ]
  },
  {
   "cell_type": "code",
   "execution_count": 155,
   "metadata": {},
   "outputs": [],
   "source": [
    "# load jpgs\n",
    "def process_images(inpath, outpath, dim_tuple, extension):\n",
    "    images = []\n",
    "    start = 0\n",
    "    #open images\n",
    "    for file in tqdm(glob(f'{inpath}*.{extension}')):\n",
    "        with Image.open(file) as img:\n",
    "            #rotate image\n",
    "            rotated_images = rotate_images(img)\n",
    "            \n",
    "            # resize images\n",
    "            resized = resizing(rotated_images, dim_tuple)\n",
    "            \n",
    "            #grayscale images\n",
    "            gray_images = grayscale(resized)\n",
    "            \n",
    "            \n",
    "            # save the images\n",
    "            save_preprocessed_images(gray_images, outpath, extension, start)\n",
    "            start += 8\n",
    "    return "
   ]
  },
  {
   "cell_type": "code",
   "execution_count": 148,
   "metadata": {},
   "outputs": [],
   "source": [
    "# rotate images\n",
    "def rotate_images(image):\n",
    "    '''\n",
    "    rotate_images(image):\n",
    "    This function rotates an image on it's center 7 times (45, 90, 135, 180, 225, 270, and mirror image)\n",
    "    Input:\n",
    "        One image file\n",
    "    Returns:\n",
    "        A list of images containing the original image and the rotated one\n",
    "    '''\n",
    "    rotated_images = []\n",
    "    rotate45 = image.rotate(45)\n",
    "    rotate90 = image.rotate(90)\n",
    "    rotate135 = image.rotate(135)\n",
    "    rotate180 = image.rotate(180)\n",
    "    rotate225 = image.rotate(225)\n",
    "    rotate270 = image.rotate(270)\n",
    "    chirl_image = image.transpose(Image.FLIP_LEFT_RIGHT)\n",
    "    \n",
    "    rotated_images.extend([image, rotate45, rotate90,\n",
    "                           rotate135, rotate180, rotate225,\n",
    "                           chirl_image])  \n",
    "    return rotated_images"
   ]
  },
  {
   "cell_type": "code",
   "execution_count": 149,
   "metadata": {},
   "outputs": [],
   "source": [
    "def resizing(images, dim_tuple):\n",
    "    '''\n",
    "    resizing(images, dim_tuple):\n",
    "    This function resizes a list of images\n",
    "    Input:\n",
    "        List of images\n",
    "        Tuple containing the desired hight and the width\n",
    "    Returns:\n",
    "        List of resized images        \n",
    "    '''\n",
    "    resized = [image.resize(dim_tuple) for image in images]\n",
    "    return resized"
   ]
  },
  {
   "cell_type": "code",
   "execution_count": 150,
   "metadata": {},
   "outputs": [],
   "source": [
    "def grayscale(images):\n",
    "    '''\n",
    "    grayscale(images):\n",
    "    This transforms RGB images to grayscale images\n",
    "    Input:\n",
    "        List of RBG images\n",
    "    Returns:\n",
    "        List of grayscale images\n",
    "    '''\n",
    "    gray_images = [image.convert(mode='L') for image in images]\n",
    "    return gray_images"
   ]
  },
  {
   "cell_type": "code",
   "execution_count": 151,
   "metadata": {},
   "outputs": [],
   "source": [
    "# save images in a different path\n",
    "def save_preprocessed_images(processed_images, outpath, extension, start):\n",
    "    '''\n",
    "    grayscale(images):\n",
    "    This transforms RGB images to grayscale images\n",
    "    Input:\n",
    "        List of RBG images\n",
    "    Returns:\n",
    "        just\n",
    "    '''\n",
    "    [image.save(f'{outpath}\\\\image{i}.{extension}') for i, image in enumerate(processed_images, start)]\n",
    "    return"
   ]
  },
  {
   "cell_type": "markdown",
   "metadata": {},
   "source": [
    "# Process Damselflies Images"
   ]
  },
  {
   "cell_type": "code",
   "execution_count": 152,
   "metadata": {},
   "outputs": [],
   "source": [
    "inpath = r'E:\\images2019\\train_val2019\\Damselflies\\\\'\n",
    "extension = 'jpg'\n",
    "outpath = r'E:\\processed_damsel_images'\n",
    "dim_tuple = (256, 256)\n",
    "\n",
    "process_images(inpath, outpath, dim_tuple, extension)"
   ]
  },
  {
   "cell_type": "markdown",
   "metadata": {},
   "source": [
    "# Process Dragonflies Images"
   ]
  },
  {
   "cell_type": "code",
   "execution_count": 154,
   "metadata": {},
   "outputs": [],
   "source": [
    "inpath = r'E:\\images2019\\train_val2019\\Dragonflies\\\\'\n",
    "extension = 'jpg'\n",
    "outpath = r'E:\\processed_dragon_images'\n",
    "dim_tuple = (256, 256)\n",
    "\n",
    "process_images(inpath, outpath, dim_tuple, extension)"
   ]
  }
 ],
 "metadata": {
  "kernelspec": {
   "display_name": "Python 3",
   "language": "python",
   "name": "python3"
  },
  "language_info": {
   "codemirror_mode": {
    "name": "ipython",
    "version": 3
   },
   "file_extension": ".py",
   "mimetype": "text/x-python",
   "name": "python",
   "nbconvert_exporter": "python",
   "pygments_lexer": "ipython3",
   "version": "3.7.4"
  }
 },
 "nbformat": 4,
 "nbformat_minor": 2
}
