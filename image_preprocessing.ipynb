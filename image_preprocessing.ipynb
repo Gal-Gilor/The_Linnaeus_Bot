{
 "cells": [
  {
   "cell_type": "code",
   "execution_count": 1,
   "metadata": {},
   "outputs": [],
   "source": [
    "from PIL import Image\n",
    "from glob import glob\n",
    "from tqdm import tqdm\n",
    "import numpy as np\n",
    "import os\n",
    "import pickle"
   ]
  },
  {
   "cell_type": "code",
   "execution_count": 2,
   "metadata": {},
   "outputs": [],
   "source": [
    "# load jpgs\n",
    "def process_images(inpath, outpath, dim_tuple, extension, start=1):\n",
    "    #open images\n",
    "    for file in tqdm(glob(f'{inpath}*.{extension}')):\n",
    "        with Image.open(file) as img:\n",
    "            #rotate image\n",
    "            rotated_images = rotate_images(img)\n",
    "            \n",
    "            # resize images\n",
    "            resized = resizing(rotated_images, dim_tuple)\n",
    "            \n",
    "            #grayscale images\n",
    "            gray_images = grayscale(resized)\n",
    "            \n",
    "            \n",
    "            # save the images\n",
    "            save_preprocessed_images(gray_images, outpath, extension, start)\n",
    "            start += 3         \n",
    "             \n",
    "    return"
   ]
  },
  {
   "cell_type": "code",
   "execution_count": 3,
   "metadata": {},
   "outputs": [],
   "source": [
    "# rotate images\n",
    "def rotate_images(image):\n",
    "    '''\n",
    "    rotate_images(image):\n",
    "    This function rotates an image on it's center 7 times (45, 90, 135, 180, 225, 270, and mirror image)\n",
    "    Input:\n",
    "        One image file\n",
    "    Returns:\n",
    "        A list of images containing the original image and the rotated one\n",
    "    '''\n",
    "    rotated_images = []\n",
    "\n",
    "    rotate180 = image.rotate(180)\n",
    "    \n",
    "    chirl_image = image.transpose(Image.FLIP_LEFT_RIGHT)\n",
    "    \n",
    "    rotated_images.extend([image, rotate180, chirl_image])  \n",
    "    return rotated_images"
   ]
  },
  {
   "cell_type": "code",
   "execution_count": 4,
   "metadata": {},
   "outputs": [],
   "source": [
    "def resizing(images, dim_tuple):\n",
    "    '''\n",
    "    resizing(images, dim_tuple):\n",
    "    This function resizes a list of images\n",
    "    Input:\n",
    "        List of images\n",
    "        Tuple containing the desired hight and the width\n",
    "    Returns:\n",
    "        List of resized images        \n",
    "    '''\n",
    "    resized = [image.resize(dim_tuple) for image in images]\n",
    "    return resized"
   ]
  },
  {
   "cell_type": "code",
   "execution_count": 5,
   "metadata": {},
   "outputs": [],
   "source": [
    "def grayscale(images):\n",
    "    '''\n",
    "    grayscale(images):\n",
    "    This transforms RGB images to grayscale images\n",
    "    Input:\n",
    "        List of RBG images\n",
    "    Returns:\n",
    "        List of grayscale images\n",
    "    '''\n",
    "    gray_images = [image.convert(mode='L') for image in images]\n",
    "    return gray_images"
   ]
  },
  {
   "cell_type": "code",
   "execution_count": 6,
   "metadata": {},
   "outputs": [],
   "source": [
    "# save images in a different path\n",
    "def save_preprocessed_images(processed_images, outpath, extension, start):\n",
    "    '''\n",
    "    save_preprocessed_images(processed_images, outpath, extension, start)\n",
    "    This function saves any type of image in a specific directory\n",
    "    Input:\n",
    "        processed_images: List of images\n",
    "        outpath: Where you want the files to be saved\n",
    "    Returns:\n",
    "        Does not return a variable. Creates image files \n",
    "    '''\n",
    "    [image.save(f'{outpath}\\\\image{i}.{extension}') for i, image in enumerate(processed_images, start)]\n",
    "    return"
   ]
  },
  {
   "cell_type": "code",
   "execution_count": 7,
   "metadata": {},
   "outputs": [],
   "source": [
    "def pickle_train_test(inpath, train_path, test_path, extension, n, label):\n",
    "    '''\n",
    "    pickle_train_test(inpath, train_path, test_path, extension, n, label):\n",
    "    This function creates two datasets from the contents of a specific directory\n",
    "    Input:\n",
    "        inpath: The path your files are at\n",
    "        train_path: The path you want to save your train set\n",
    "        test_path: The path you want to save your test set\n",
    "        n: Train set size\n",
    "        label: Label (int)\n",
    "            \n",
    "    '''\n",
    "    images = []\n",
    "    #open images\n",
    "    for file in tqdm(glob(f'{inpath}*.{extension}')):\n",
    "        with Image.open(file) as img:\n",
    "            np_image = np.asarray(img) / 255\n",
    "            images.append([np_image, label])\n",
    "            if len(images) == n:\n",
    "                with open(train_path, 'wb') as file:\n",
    "                    pickle.dump(images, file)\n",
    "                del images\n",
    "                images = []\n",
    "            \n",
    "    with open(test_path, 'wb') as file:\n",
    "        pickle.dump(images, file)\n",
    "    del images\n",
    "    return "
   ]
  },
  {
   "cell_type": "markdown",
   "metadata": {},
   "source": [
    "# Process Damselflies Images"
   ]
  },
  {
   "cell_type": "code",
   "execution_count": null,
   "metadata": {},
   "outputs": [],
   "source": [
    "# create and save new images\n",
    "inpath = r'E:\\images2019\\train_val2019\\Damselflies\\\\'\n",
    "extension = 'jpg'\n",
    "outpath = r'E:\\processed_damsel_images'\n",
    "dim_tuple = (256, 256)\n",
    "\n",
    "# process_images(inpath, outpath, dim_tuple, extension)"
   ]
  },
  {
   "cell_type": "markdown",
   "metadata": {},
   "source": [
    "# Process Dragonflies Images"
   ]
  },
  {
   "cell_type": "code",
   "execution_count": null,
   "metadata": {},
   "outputs": [],
   "source": [
    "inpath = r'E:\\images2019\\train_val2019\\Dragonflies\\\\'\n",
    "extension = 'jpg'\n",
    "outpath = r'E:\\processed_dragon_images'\n",
    "dim_tuple = (256, 256)\n",
    "\n",
    "# process_images(inpath, outpath, dim_tuple, extension)"
   ]
  },
  {
   "cell_type": "markdown",
   "metadata": {},
   "source": [
    "# Train/Test Dragonfly Images"
   ]
  },
  {
   "cell_type": "code",
   "execution_count": 10,
   "metadata": {
    "scrolled": true
   },
   "outputs": [
    {
     "name": "stdout",
     "output_type": "stream",
     "text": [
      "27740, 22192\n"
     ]
    },
    {
     "name": "stderr",
     "output_type": "stream",
     "text": [
      "100%|████████████████████████████████████████████████████████████████████████████| 27738/27738 [04:42<00:00, 98.07it/s]\n"
     ]
    }
   ],
   "source": [
    "inpath = r'E:\\processed_dragon_images\\\\'\n",
    "test_path = r'E:\\processed_dragon_images\\test\\dragon_test.pkl'\n",
    "train_path = r'E:\\processed_dragon_images\\train\\dragon_train.pkl'\n",
    "extension = 'jpg'\n",
    "\n",
    "files = os.listdir(inpath) # dir is your directory path\n",
    "n_files = len(files)\n",
    "n_train = int(n_files * 0.8)\n",
    "print(f'{n_files}, {n_train}')\n",
    "\n",
    "# pickle_train_test(inpath, train_path, test_path, extension, n_train, 0)"
   ]
  },
  {
   "cell_type": "markdown",
   "metadata": {},
   "source": [
    "# Train/Test Damselfly Images"
   ]
  },
  {
   "cell_type": "code",
   "execution_count": 9,
   "metadata": {},
   "outputs": [
    {
     "name": "stdout",
     "output_type": "stream",
     "text": [
      "25388, 20310\n"
     ]
    },
    {
     "name": "stderr",
     "output_type": "stream",
     "text": [
      "100%|███████████████████████████████████████████████████████████████████████████| 25386/25386 [04:03<00:00, 104.22it/s]\n"
     ]
    }
   ],
   "source": [
    "inpath = r'E:\\processed_damsel_images\\\\'\n",
    "test_path = r'E:\\processed_damsel_images\\test\\damsel_test.pkl'\n",
    "train_path = r'E:\\processed_damsel_images\\train\\damsel_train.pkl'\n",
    "extension = 'jpg'\n",
    "\n",
    "files = os.listdir(inpath) # dir is your directory path\n",
    "n_files = len(files)\n",
    "n_train = int(n_files * 0.8)\n",
    "print(f'{n_files}, {n_train}')\n",
    "\n",
    "# pickle_train_test(inpath, train_path, test_path, extension, n_train, 1)"
   ]
  },
  {
   "cell_type": "code",
   "execution_count": 11,
   "metadata": {},
   "outputs": [],
   "source": [
    "from sklearn.model_selection import train_test_split\n",
    "import pickle\n",
    "import cv2\n",
    "import matplotlib.pyplot as plt\n",
    "%matplotlib inline"
   ]
  },
  {
   "cell_type": "code",
   "execution_count": 13,
   "metadata": {},
   "outputs": [],
   "source": [
    "with open(train_path, \"rb\") as train_file:\n",
    "    damsel_train = pickle.load(train_file)"
   ]
  },
  {
   "cell_type": "code",
   "execution_count": null,
   "metadata": {},
   "outputs": [],
   "source": [
    "damsel = [np.array(cv2.imread(file)) for file in tqdm(glob(r'E:\\processed_damsel_images\\*.jpg'))]\n",
    "print('Got damselflies')"
   ]
  },
  {
   "cell_type": "code",
   "execution_count": null,
   "metadata": {},
   "outputs": [],
   "source": [
    "dragon = [np.array(cv2.imread(file)) for file in tqdm(glob(r'E:\\processed_dragon_images\\*.jpg'))]\n",
    "print('Got dragonflies')"
   ]
  },
  {
   "cell_type": "code",
   "execution_count": null,
   "metadata": {},
   "outputs": [],
   "source": [
    "drag_and_dam = np.concatenate ([damsel, np.ones(len(damsel))], axis=0)"
   ]
  },
  {
   "cell_type": "code",
   "execution_count": null,
   "metadata": {},
   "outputs": [],
   "source": [
    "# add labels - 1 for damselfly 0 for dragonfly\n",
    "damsel = np.array(damsel)\n",
    "damsel_labels =  np.ones(len(damsel))\n",
    "\n",
    "dragon = np.array(dragon)\n",
    "dragon_labels =  np.ones(len(dragon))\n",
    "\n",
    "# concatanate the labels with the array\n",
    "labeled_damsels = np.concatenate ([damsel, damsel_labels], axis=0)\n",
    "labeled_dragons = np.concatenate ([dragon, dragon_labels], axis=0)"
   ]
  },
  {
   "cell_type": "code",
   "execution_count": null,
   "metadata": {},
   "outputs": [],
   "source": [
    "labeled_damsels[0]"
   ]
  }
 ],
 "metadata": {
  "kernelspec": {
   "display_name": "Python 3",
   "language": "python",
   "name": "python3"
  },
  "language_info": {
   "codemirror_mode": {
    "name": "ipython",
    "version": 3
   },
   "file_extension": ".py",
   "mimetype": "text/x-python",
   "name": "python",
   "nbconvert_exporter": "python",
   "pygments_lexer": "ipython3",
   "version": "3.7.4"
  }
 },
 "nbformat": 4,
 "nbformat_minor": 2
}
